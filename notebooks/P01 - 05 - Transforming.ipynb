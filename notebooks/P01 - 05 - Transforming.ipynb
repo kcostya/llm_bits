{
 "cells": [
  {
   "cell_type": "markdown",
   "source": [
    "# Transforming\n",
    "\n",
    "In this notebook, I will explore how to use Large Language Models for text transformation tasks such as language translation, spelling and grammar checking, tone adjustment, and format conversion.\n",
    "\n",
    "## Setup"
   ],
   "metadata": {
    "collapsed": false
   },
   "id": "6fa7a93165e7b565"
  },
  {
   "cell_type": "code",
   "execution_count": 1,
   "outputs": [],
   "source": [
    "import os\n",
    "import sys\n",
    "sys.path.append(os.path.abspath(os.path.join(os.getcwd(), os.pardir)))\n",
    "\n",
    "import openai\n",
    "from dotenv import load_dotenv, find_dotenv\n",
    "from IPython.display import display, HTML, Markdown\n",
    "from redlines import Redlines\n",
    "\n",
    "from utils import get_completion\n",
    "\n",
    "# Load the environment variables from the local .env file\n",
    "_ = load_dotenv(find_dotenv())\n",
    "# Set the API key and configure the OpenAI client.\n",
    "openai.api_key = os.getenv(\"OPENAI_API_KEY\")"
   ],
   "metadata": {
    "collapsed": false,
    "ExecuteTime": {
     "end_time": "2023-08-30T10:58:55.779350Z",
     "start_time": "2023-08-30T10:58:55.217740Z"
    }
   },
   "id": "9ffffd24e773636"
  },
  {
   "cell_type": "markdown",
   "source": [
    "## Translation\n",
    "\n",
    "ChatGPT is trained with sources in many languages. This gives the model the ability to do translation. Here are some examples of how to use this capability."
   ],
   "metadata": {
    "collapsed": false
   },
   "id": "f2d90239c5a1b100"
  },
  {
   "cell_type": "code",
   "execution_count": 2,
   "outputs": [
    {
     "name": "stdout",
     "output_type": "stream",
     "text": [
      "Hola, me gustaría ordenar una licuadora.\n"
     ]
    }
   ],
   "source": [
    "prompt = f\"\"\"\n",
    "Translate the following English text to Spanish: \\ \n",
    "```Hi, I would like to order a blender```\n",
    "\"\"\"\n",
    "\n",
    "response = get_completion(prompt)\n",
    "print(response)"
   ],
   "metadata": {
    "collapsed": false,
    "ExecuteTime": {
     "end_time": "2023-08-30T10:58:56.551940Z",
     "start_time": "2023-08-30T10:58:55.780961Z"
    }
   },
   "id": "b471e0014904f672"
  },
  {
   "cell_type": "code",
   "execution_count": 3,
   "outputs": [
    {
     "name": "stdout",
     "output_type": "stream",
     "text": [
      "This language is French.\n"
     ]
    }
   ],
   "source": [
    "prompt = f\"\"\"\n",
    "Tell me which language this is: \n",
    "```Combien coûte le lampadaire?```\n",
    "\"\"\"\n",
    "\n",
    "response = get_completion(prompt)\n",
    "print(response)"
   ],
   "metadata": {
    "collapsed": false,
    "ExecuteTime": {
     "end_time": "2023-08-30T10:58:57.068951Z",
     "start_time": "2023-08-30T10:58:56.552463Z"
    }
   },
   "id": "5d3b40d27fb5e064"
  },
  {
   "cell_type": "code",
   "execution_count": 4,
   "outputs": [
    {
     "name": "stdout",
     "output_type": "stream",
     "text": [
      "French: ```Je veux commander un ballon de basket```\n",
      "Spanish: ```Quiero ordenar una pelota de baloncesto```\n",
      "English: ```I want to order a basketball```\n"
     ]
    }
   ],
   "source": [
    "prompt = f\"\"\"\n",
    "Translate the following  text to French and Spanish\n",
    "and English pirate: \\\n",
    "```I want to order a basketball```\n",
    "\"\"\"\n",
    "\n",
    "response = get_completion(prompt)\n",
    "print(response)"
   ],
   "metadata": {
    "collapsed": false,
    "ExecuteTime": {
     "end_time": "2023-08-30T10:58:58.693896Z",
     "start_time": "2023-08-30T10:58:57.069849Z"
    }
   },
   "id": "b385c37545698fd9"
  },
  {
   "cell_type": "code",
   "execution_count": 5,
   "outputs": [
    {
     "name": "stdout",
     "output_type": "stream",
     "text": [
      "Formal: ¿Le gustaría ordenar una almohada?\n",
      "Informal: ¿Te gustaría ordenar una almohada?\n"
     ]
    }
   ],
   "source": [
    "prompt = f\"\"\"\n",
    "Translate the following text to Spanish in both the \\\n",
    "formal and informal forms: \n",
    "'Would you like to order a pillow?'\n",
    "\"\"\"\n",
    "\n",
    "response = get_completion(prompt)\n",
    "print(response)"
   ],
   "metadata": {
    "collapsed": false,
    "ExecuteTime": {
     "end_time": "2023-08-30T10:58:59.656852Z",
     "start_time": "2023-08-30T10:58:58.696388Z"
    }
   },
   "id": "cf8ce5071d17844d"
  },
  {
   "cell_type": "markdown",
   "source": [
    "### Universal Translator\n",
    "Imagine you are in charge of IT at a large multinational e-commerce company. Users are messaging you with IT issues in all their native languages. Your staff is from all over the world and speaks only their native languages. You need a universal translator!"
   ],
   "metadata": {
    "collapsed": false
   },
   "id": "815be9104cfd34c4"
  },
  {
   "cell_type": "code",
   "execution_count": 6,
   "outputs": [],
   "source": [
    "user_messages = [\n",
    "  \"La performance du système est plus lente que d'habitude.\",  # System performance is slower than normal         \n",
    "  \"Mi monitor tiene píxeles que no se iluminan.\",              # My monitor has pixels that are not lighting\n",
    "  \"Il mio mouse non funziona\",                                 # My mouse is not working\n",
    "  \"Mój klawisz Ctrl jest zepsuty\",                             # My keyboard has a broken control key\n",
    "  \"我的屏幕在闪烁\"                                               # My screen is flashing\n",
    "] "
   ],
   "metadata": {
    "collapsed": false,
    "ExecuteTime": {
     "end_time": "2023-08-30T10:58:59.658059Z",
     "start_time": "2023-08-30T10:58:59.655211Z"
    }
   },
   "id": "24ce27709b78579d"
  },
  {
   "cell_type": "code",
   "execution_count": 7,
   "outputs": [
    {
     "name": "stdout",
     "output_type": "stream",
     "text": [
      "Original message (The language is French.): La performance du système est plus lente que d'habitude.\n",
      "The performance of the system is slower than usual.\n",
      "\n",
      "시스템의 성능이 평소보다 느립니다. \n",
      "Original message (The language is Spanish.): Mi monitor tiene píxeles que no se iluminan.\n",
      "English: \"My monitor has pixels that do not light up.\"\n",
      "\n",
      "Korean: \"내 모니터에는 밝아지지 않는 픽셀이 있습니다.\" \n",
      "Original message (The language is Italian.): Il mio mouse non funziona\n",
      "English: \"My mouse is not working.\"\n",
      "Korean: \"내 마우스가 작동하지 않습니다.\" \n",
      "Original message (The language is Polish.): Mój klawisz Ctrl jest zepsuty\n",
      "English: \"My Ctrl key is broken\"\n",
      "Korean: \"내 Ctrl 키가 고장 났어요\" \n",
      "Original message (The language is Chinese.): 我的屏幕在闪烁\n",
      "English: My screen is flickering.\n",
      "Korean: 내 화면이 깜박거립니다. \n"
     ]
    }
   ],
   "source": [
    "for issue in user_messages:\n",
    "    prompt = f\"Tell me what language this is: ```{issue}```\"\n",
    "    lang = get_completion(prompt)\n",
    "    print(f\"Original message ({lang}): {issue}\")\n",
    "\n",
    "    prompt = f\"\"\"\n",
    "    Translate the following  text to English \\\n",
    "    and Korean: ```{issue}```\n",
    "    \"\"\"\n",
    "    response = get_completion(prompt)\n",
    "    print(response, \"\\n\")"
   ],
   "metadata": {
    "collapsed": false,
    "ExecuteTime": {
     "end_time": "2023-08-30T10:59:08.976696Z",
     "start_time": "2023-08-30T10:58:59.658808Z"
    }
   },
   "id": "fb4765aea39550e9"
  },
  {
   "cell_type": "markdown",
   "source": [
    "## Tone Transformation\n",
    "Writing can vary based on the intended audience. ChatGPT can produce different tones."
   ],
   "metadata": {
    "collapsed": false
   },
   "id": "80fa0bfbc9a9039"
  },
  {
   "cell_type": "code",
   "execution_count": 8,
   "outputs": [
    {
     "name": "stdout",
     "output_type": "stream",
     "text": [
      "Dear Sir/Madam,\n",
      "\n",
      "I hope this letter finds you well. My name is Joe, and I am writing to bring your attention to a specification document regarding a standing lamp. \n",
      "\n",
      "I kindly request that you take a moment to review the attached spec, as it contains important details about the standing lamp in question. \n",
      "\n",
      "Thank you for your time and consideration. I look forward to hearing from you soon.\n",
      "\n",
      "Sincerely,\n",
      "Joe\n"
     ]
    }
   ],
   "source": [
    "prompt = f\"\"\"\n",
    "Translate the following from slang to a business letter: \n",
    "'Dude, This is Joe, check out this spec on this standing lamp.'\n",
    "\"\"\"\n",
    "\n",
    "response = get_completion(prompt)\n",
    "print(response)"
   ],
   "metadata": {
    "collapsed": false,
    "ExecuteTime": {
     "end_time": "2023-08-30T10:59:11.196926Z",
     "start_time": "2023-08-30T10:59:08.937852Z"
    }
   },
   "id": "e0510efb57bee26"
  },
  {
   "cell_type": "markdown",
   "source": [
    "## Format Conversion\n",
    "ChatGPT can translate between formats. The prompt should describe the input and output formats."
   ],
   "metadata": {
    "collapsed": false
   },
   "id": "d5f14aec35f957ee"
  },
  {
   "cell_type": "code",
   "execution_count": 9,
   "outputs": [
    {
     "name": "stdout",
     "output_type": "stream",
     "text": [
      "<!DOCTYPE html>\n",
      "<html>\n",
      "<head>\n",
      "<style>\n",
      "table {\n",
      "  font-family: arial, sans-serif;\n",
      "  border-collapse: collapse;\n",
      "  width: 100%;\n",
      "}\n",
      "\n",
      "td, th {\n",
      "  border: 1px solid #dddddd;\n",
      "  text-align: left;\n",
      "  padding: 8px;\n",
      "}\n",
      "\n",
      "tr:nth-child(even) {\n",
      "  background-color: #dddddd;\n",
      "}\n",
      "</style>\n",
      "</head>\n",
      "<body>\n",
      "\n",
      "<h2>Restaurant Employees</h2>\n",
      "\n",
      "<table>\n",
      "  <tr>\n",
      "    <th>Name</th>\n",
      "    <th>Email</th>\n",
      "  </tr>\n",
      "  <tr>\n",
      "    <td>Shyam</td>\n",
      "    <td>shyamjaiswal@gmail.com</td>\n",
      "  </tr>\n",
      "  <tr>\n",
      "    <td>Bob</td>\n",
      "    <td>bob32@gmail.com</td>\n",
      "  </tr>\n",
      "  <tr>\n",
      "    <td>Jai</td>\n",
      "    <td>jai87@gmail.com</td>\n",
      "  </tr>\n",
      "</table>\n",
      "\n",
      "</body>\n",
      "</html>\n"
     ]
    }
   ],
   "source": [
    "data_json = { \"resturant employees\" :[ \n",
    "    {\"name\":\"Shyam\", \"email\":\"shyamjaiswal@gmail.com\"},\n",
    "    {\"name\":\"Bob\", \"email\":\"bob32@gmail.com\"},\n",
    "    {\"name\":\"Jai\", \"email\":\"jai87@gmail.com\"}\n",
    "]}\n",
    "\n",
    "prompt = f\"\"\"\n",
    "Translate the following python dictionary from JSON to an HTML \\\n",
    "table with column headers and title: {data_json}\n",
    "\"\"\"\n",
    "\n",
    "response = get_completion(prompt)\n",
    "print(response)"
   ],
   "metadata": {
    "collapsed": false,
    "ExecuteTime": {
     "end_time": "2023-08-30T10:59:17.104809Z",
     "start_time": "2023-08-30T10:59:11.196829Z"
    }
   },
   "id": "18de80831eac0c84"
  },
  {
   "cell_type": "code",
   "execution_count": 10,
   "outputs": [
    {
     "data": {
      "text/plain": "<IPython.core.display.HTML object>",
      "text/html": "<!DOCTYPE html>\n<html>\n<head>\n<style>\ntable {\n  font-family: arial, sans-serif;\n  border-collapse: collapse;\n  width: 100%;\n}\n\ntd, th {\n  border: 1px solid #dddddd;\n  text-align: left;\n  padding: 8px;\n}\n\ntr:nth-child(even) {\n  background-color: #dddddd;\n}\n</style>\n</head>\n<body>\n\n<h2>Restaurant Employees</h2>\n\n<table>\n  <tr>\n    <th>Name</th>\n    <th>Email</th>\n  </tr>\n  <tr>\n    <td>Shyam</td>\n    <td>shyamjaiswal@gmail.com</td>\n  </tr>\n  <tr>\n    <td>Bob</td>\n    <td>bob32@gmail.com</td>\n  </tr>\n  <tr>\n    <td>Jai</td>\n    <td>jai87@gmail.com</td>\n  </tr>\n</table>\n\n</body>\n</html>"
     },
     "metadata": {},
     "output_type": "display_data"
    }
   ],
   "source": [
    "display(HTML(response))"
   ],
   "metadata": {
    "collapsed": false,
    "ExecuteTime": {
     "end_time": "2023-08-30T10:59:17.110308Z",
     "start_time": "2023-08-30T10:59:17.107356Z"
    }
   },
   "id": "dce2e71fc9dbd0f4"
  },
  {
   "cell_type": "markdown",
   "source": [
    "## Spellcheck/Grammar check.\n",
    "\n",
    "Here are some examples of common grammar and spelling problems and the LLM's response. \n",
    "\n",
    "To signal to the LLM that you want it to proofread your text, you instruct the model to 'proofread' or 'proofread and correct'."
   ],
   "metadata": {
    "collapsed": false
   },
   "id": "a4b86afa18e5a536"
  },
  {
   "cell_type": "code",
   "execution_count": 11,
   "outputs": [
    {
     "name": "stdout",
     "output_type": "stream",
     "text": [
      "The girl with the black and white puppies has a ball.\n",
      "No errors found.\n",
      "It's going to be a long day. Does the car need its oil changed?\n",
      "There goes my freedom. They're going to bring their suitcases.\n",
      "You're going to need your notebook.\n",
      "That medicine affects my ability to sleep. Have you heard of the butterfly effect?\n",
      "This phrase is to check chatGPT for spelling ability.\n"
     ]
    }
   ],
   "source": [
    "text = [ \n",
    "  \"The girl with the black and white puppies have a ball.\",  # The girl has a ball.\n",
    "  \"Yolanda has her notebook.\", # ok\n",
    "  \"Its going to be a long day. Does the car need it’s oil changed?\",  # Homonyms\n",
    "  \"Their goes my freedom. There going to bring they’re suitcases.\",  # Homonyms\n",
    "  \"Your going to need you’re notebook.\",  # Homonyms\n",
    "  \"That medicine effects my ability to sleep. Have you heard of the butterfly affect?\", # Homonyms\n",
    "  \"This phrase is to cherck chatGPT for speling abilitty\"  # spelling\n",
    "]\n",
    "\n",
    "for t in text:\n",
    "    prompt = f\"\"\"Proofread and correct the following text\n",
    "    and rewrite the corrected version. If you don't find\n",
    "    and errors, just say \"No errors found\". Don't use \n",
    "    any punctuation around the text:\n",
    "    ```{t}```\"\"\"\n",
    "    \n",
    "    response = get_completion(prompt)\n",
    "    print(response)"
   ],
   "metadata": {
    "collapsed": false,
    "ExecuteTime": {
     "end_time": "2023-08-30T10:59:23.171135Z",
     "start_time": "2023-08-30T10:59:17.111673Z"
    }
   },
   "id": "750017652b325803"
  },
  {
   "cell_type": "code",
   "execution_count": 12,
   "outputs": [
    {
     "name": "stdout",
     "output_type": "stream",
     "text": [
      "Got this for my daughter for her birthday because she keeps taking mine from my room. Yes, adults also like pandas too. She takes it everywhere with her, and it's super soft and cute. However, one of the ears is a bit lower than the other, and I don't think that was designed to be asymmetrical. Additionally, it's a bit small for what I paid for it. I believe there might be other options that are bigger for the same price. On the positive side, it arrived a day earlier than expected, so I got to play with it myself before I gave it to my daughter.\n"
     ]
    }
   ],
   "source": [
    "text = f\"\"\"\n",
    "Got this for my daughter for her birthday cuz she keeps taking \\\n",
    "mine from my room.  Yes, adults also like pandas too.  She takes \\\n",
    "it everywhere with her, and it's super soft and cute.  One of the \\\n",
    "ears is a bit lower than the other, and I don't think that was \\\n",
    "designed to be asymmetrical. It's a bit small for what I paid for it \\\n",
    "though. I think there might be other options that are bigger for \\\n",
    "the same price.  It arrived a day earlier than expected, so I got \\\n",
    "to play with it myself before I gave it to my daughter.\n",
    "\"\"\"\n",
    "\n",
    "prompt = f\"proofread and correct this review: ```{text}```\"\n",
    "\n",
    "response = get_completion(prompt)\n",
    "print(response)"
   ],
   "metadata": {
    "collapsed": false,
    "ExecuteTime": {
     "end_time": "2023-08-30T10:59:27.353550Z",
     "start_time": "2023-08-30T10:59:23.172989Z"
    }
   },
   "id": "a27e166c132cc234"
  },
  {
   "cell_type": "code",
   "execution_count": 13,
   "outputs": [
    {
     "data": {
      "text/plain": "<IPython.core.display.Markdown object>",
      "text/markdown": "Got this for my daughter for her birthday <span style='color:red;font-weight:700;text-decoration:line-through;'>cuz </span><span style='color:green;font-weight:700;'>because </span>she keeps taking mine from my <span style='color:red;font-weight:700;text-decoration:line-through;'>room.  </span><span style='color:green;font-weight:700;'>room. </span>Yes, adults also like pandas <span style='color:red;font-weight:700;text-decoration:line-through;'>too.  </span><span style='color:green;font-weight:700;'>too. </span>She takes it everywhere with her, and it's super soft and <span style='color:red;font-weight:700;text-decoration:line-through;'>cute.  One </span><span style='color:green;font-weight:700;'>cute. However, one </span>of the ears is a bit lower than the other, and I don't think that was designed to be asymmetrical. <span style='color:red;font-weight:700;text-decoration:line-through;'>It's </span><span style='color:green;font-weight:700;'>Additionally, it's </span>a bit small for what I paid for <span style='color:red;font-weight:700;text-decoration:line-through;'>it though. </span><span style='color:green;font-weight:700;'>it. </span>I <span style='color:red;font-weight:700;text-decoration:line-through;'>think </span><span style='color:green;font-weight:700;'>believe </span>there might be other options that are bigger for the same <span style='color:red;font-weight:700;text-decoration:line-through;'>price.  It </span><span style='color:green;font-weight:700;'>price. On the positive side, it </span>arrived a day earlier than expected, so I got to play with it myself before I gave it to my daughter."
     },
     "metadata": {},
     "output_type": "display_data"
    }
   ],
   "source": [
    "diff = Redlines(text, response)\n",
    "display(Markdown(diff.output_markdown))"
   ],
   "metadata": {
    "collapsed": false,
    "ExecuteTime": {
     "end_time": "2023-08-30T10:59:27.363052Z",
     "start_time": "2023-08-30T10:59:27.358584Z"
    }
   },
   "id": "54e8c307cf222fdb"
  },
  {
   "cell_type": "code",
   "execution_count": 14,
   "outputs": [
    {
     "data": {
      "text/plain": "<IPython.core.display.Markdown object>",
      "text/markdown": "**Review of a Panda Plush Toy**\n\nI purchased this adorable panda plush toy as a birthday gift for my daughter, who has a penchant for taking my belongings from my room. Contrary to popular belief, adults can also appreciate the charm of pandas. This cuddly companion has quickly become her constant companion, accompanying her wherever she goes. Its irresistibly soft and cute appearance is truly captivating.\n\nHowever, upon closer inspection, I noticed a slight asymmetry in the placement of the ears. While this may not have been intentional, it adds a unique touch to the toy's design. Nevertheless, considering the price I paid, I expected a slightly larger size. It is worth noting that there may be alternative options available at the same price point that offer a more substantial presence.\n\nOn a positive note, the delivery of the panda plush toy exceeded my expectations. It arrived a day earlier than anticipated, allowing me the opportunity to personally experience its delightful qualities before presenting it to my daughter. This unexpected bonus further enhanced my overall satisfaction with the purchase.\n\nIn conclusion, despite the minor imperfections and size discrepancy, this panda plush toy has proven to be a beloved companion for my daughter. Its undeniable charm and exceptional softness make it a delightful addition to any collection. For those seeking a larger option, it may be worth exploring alternative choices within the same price range. Nonetheless, the prompt delivery and the joy it has brought to my daughter's life make this purchase well worth it."
     },
     "metadata": {},
     "output_type": "display_data"
    }
   ],
   "source": [
    "prompt = f\"\"\"\n",
    "proofread and correct this review. Make it more compelling. \n",
    "Ensure it follows APA style guide and targets an advanced reader. \n",
    "Output in markdown format.\n",
    "Text: ```{text}```\n",
    "\"\"\"\n",
    "\n",
    "response = get_completion(prompt)\n",
    "display(Markdown(response))"
   ],
   "metadata": {
    "collapsed": false,
    "ExecuteTime": {
     "end_time": "2023-08-30T10:59:34.915933Z",
     "start_time": "2023-08-30T10:59:27.366209Z"
    }
   },
   "id": "cfdc0cce01524b2c"
  },
  {
   "cell_type": "markdown",
   "source": [
    "Thanks to the following sites:\n",
    "\n",
    "https://writingprompts.com/bad-grammar-examples/"
   ],
   "metadata": {
    "collapsed": false
   },
   "id": "114578efda8aa0b6"
  }
 ],
 "metadata": {
  "kernelspec": {
   "display_name": "Python 3",
   "language": "python",
   "name": "python3"
  },
  "language_info": {
   "codemirror_mode": {
    "name": "ipython",
    "version": 2
   },
   "file_extension": ".py",
   "mimetype": "text/x-python",
   "name": "python",
   "nbconvert_exporter": "python",
   "pygments_lexer": "ipython2",
   "version": "2.7.6"
  }
 },
 "nbformat": 4,
 "nbformat_minor": 5
}
